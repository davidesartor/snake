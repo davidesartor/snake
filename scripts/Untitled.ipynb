{
 "cells": [
  {
   "cell_type": "code",
   "execution_count": 2,
   "id": "7beeb5b0-261d-44fe-b559-a7ff4c8a722d",
   "metadata": {},
   "outputs": [
    {
     "name": "stdout",
     "output_type": "stream",
     "text": [
      "pygame 2.1.2 (SDL 2.0.18, Python 3.10.8)\n",
      "Hello from the pygame community. https://www.pygame.org/contribute.html\n"
     ]
    }
   ],
   "source": [
    "import numpy as np\n",
    "import torch\n",
    "import sys\n",
    "import os\n",
    "sys.path.append(\"../\")\n",
    "\n",
    "from utils.snakegame import SnakeGame"
   ]
  },
  {
   "cell_type": "code",
   "execution_count": 5,
   "id": "855499ee-6aae-475d-800f-c7c5029c6743",
   "metadata": {},
   "outputs": [
    {
     "name": "stdout",
     "output_type": "stream",
     "text": [
      "Game over! Your score is:  3\n"
     ]
    }
   ],
   "source": [
    "env = SnakeGame(n_rooms=3, room_size=(7,9))\n",
    "env.run()"
   ]
  }
 ],
 "metadata": {
  "kernelspec": {
   "display_name": "minigrid",
   "language": "python",
   "name": "python3"
  },
  "language_info": {
   "codemirror_mode": {
    "name": "ipython",
    "version": 3
   },
   "file_extension": ".py",
   "mimetype": "text/x-python",
   "name": "python",
   "nbconvert_exporter": "python",
   "pygments_lexer": "ipython3",
   "version": "3.10.8"
  },
  "vscode": {
   "interpreter": {
    "hash": "4fe5e2243e5f8211266afd88540b92e8cd9caa558da99b723d476aa3581102bf"
   }
  }
 },
 "nbformat": 4,
 "nbformat_minor": 5
}
